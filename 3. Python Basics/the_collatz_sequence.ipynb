{
 "cells": [
  {
   "cell_type": "markdown",
   "metadata": {},
   "source": [
    "# The Collatz Sequence"
   ]
  },
  {
   "cell_type": "code",
   "execution_count": 1,
   "metadata": {},
   "outputs": [],
   "source": [
    "# collatz function - if this is recursively called on the same number, it will always be able to reach a value of 1\n",
    "def collatz(number):\n",
    "    output = None\n",
    "    if number % 2 == 0:\n",
    "        output = number // 2\n",
    "    else:\n",
    "        output = 3 * number + 1\n",
    "\n",
    "    print(output)\n",
    "    return output\n"
   ]
  },
  {
   "cell_type": "code",
   "execution_count": 2,
   "metadata": {},
   "outputs": [
    {
     "name": "stdout",
     "output_type": "stream",
     "text": [
      "10\n",
      "5\n",
      "16\n",
      "8\n",
      "4\n",
      "2\n",
      "1\n"
     ]
    }
   ],
   "source": [
    "# get integer input from user\n",
    "try:\n",
    "    number = int(input(\"Enter a number:\"))\n",
    "except ValueError:\n",
    "    print(\"Not an integer value!\")\n",
    "\n",
    "# keep calling collatz until number is 1\n",
    "while (number != 1):\n",
    "    number = collatz(number)\n"
   ]
  }
 ],
 "metadata": {
  "kernelspec": {
   "display_name": "Python 3.10.4 ('venv': venv)",
   "language": "python",
   "name": "python3"
  },
  "language_info": {
   "codemirror_mode": {
    "name": "ipython",
    "version": 3
   },
   "file_extension": ".py",
   "mimetype": "text/x-python",
   "name": "python",
   "nbconvert_exporter": "python",
   "pygments_lexer": "ipython3",
   "version": "3.10.4"
  },
  "orig_nbformat": 4,
  "vscode": {
   "interpreter": {
    "hash": "c63a409e90d2ad82ef17bebd67d18030d4c92b45deaa4ab1946eb87a189a70f4"
   }
  }
 },
 "nbformat": 4,
 "nbformat_minor": 2
}

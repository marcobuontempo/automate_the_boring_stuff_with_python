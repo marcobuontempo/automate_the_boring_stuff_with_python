{
 "cells": [
  {
   "cell_type": "markdown",
   "metadata": {},
   "source": [
    "# Comma Code"
   ]
  },
  {
   "cell_type": "code",
   "execution_count": 1,
   "metadata": {},
   "outputs": [
    {
     "name": "stdout",
     "output_type": "stream",
     "text": [
      "apples, bananas, tofu, and cats\n",
      "charlie, dee, dennis, and mac\n"
     ]
    }
   ],
   "source": [
    "spam = [\"apples\", \"bananas\", \"tofu\", \"cats\"]\n",
    "foo = [\"charlie\", \"dee\", \"dennis\", \"mac\"]\n",
    "\n",
    "# convert any list to be a comma-separated string, with 'and' before the last item\n",
    "def comma_code(list):\n",
    "    output = \"\"\n",
    "    for i in list[:-1]:\n",
    "        output += i + \", \"\n",
    "    output += \"and \" + list[-1]\n",
    "    return output\n",
    "\n",
    "print(comma_code(spam))\n",
    "print(comma_code(foo))"
   ]
  }
 ],
 "metadata": {
  "kernelspec": {
   "display_name": "Python 3.10.4 64-bit",
   "language": "python",
   "name": "python3"
  },
  "language_info": {
   "codemirror_mode": {
    "name": "ipython",
    "version": 3
   },
   "file_extension": ".py",
   "mimetype": "text/x-python",
   "name": "python",
   "nbconvert_exporter": "python",
   "pygments_lexer": "ipython3",
   "version": "3.10.4"
  },
  "orig_nbformat": 4,
  "vscode": {
   "interpreter": {
    "hash": "aee8b7b246df8f9039afb4144a1f6fd8d2ca17a180786b69acc140d282b71a49"
   }
  }
 },
 "nbformat": 4,
 "nbformat_minor": 2
}

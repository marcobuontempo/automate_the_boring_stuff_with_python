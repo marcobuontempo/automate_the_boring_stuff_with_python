{
 "cells": [
  {
   "cell_type": "markdown",
   "metadata": {},
   "source": [
    "# Fantasy Game Inventory"
   ]
  },
  {
   "cell_type": "code",
   "execution_count": 1,
   "metadata": {},
   "outputs": [
    {
     "name": "stdout",
     "output_type": "stream",
     "text": [
      "Inventory:\n",
      "1 rope\n",
      "6 torch\n",
      "42 gold coin\n",
      "1 dagger\n",
      "12 arrow\n",
      "\n",
      "Total number of items: 62\n"
     ]
    }
   ],
   "source": [
    "stuff = {\"rope\": 1, \"torch\": 6, \"gold coin\": 42, \"dagger\": 1, \"arrow\": 12}\n",
    "\n",
    "\n",
    "def display_inventory(inventory):\n",
    "    print(\"Inventory:\")\n",
    "    total = 0\n",
    "    for item, count in inventory.items():\n",
    "        print(count, item)\n",
    "        total += count\n",
    "    print(\"\\nTotal number of items:\", total)\n",
    "\n",
    "\n",
    "display_inventory(stuff)\n"
   ]
  },
  {
   "cell_type": "code",
   "execution_count": 2,
   "metadata": {},
   "outputs": [
    {
     "name": "stdout",
     "output_type": "stream",
     "text": [
      "Inventory:\n",
      "45 gold coin\n",
      "1 rope\n",
      "1 dagger\n",
      "1 ruby\n",
      "\n",
      "Total number of items: 48\n"
     ]
    }
   ],
   "source": [
    "def addToInventory(inventory, addedItems):\n",
    "    for item in addedItems:\n",
    "        inventory.setdefault(item, 0)\n",
    "        inventory[item] += 1\n",
    "    return inventory\n",
    "\n",
    "\n",
    "inv = {\"gold coin\": 42, \"rope\": 1}\n",
    "dragon_loot = [\"gold coin\", \"dagger\", \"gold coin\", \"gold coin\", \"ruby\"]\n",
    "inv = addToInventory(inv, dragon_loot)\n",
    "display_inventory(inv)\n"
   ]
  }
 ],
 "metadata": {
  "kernelspec": {
   "display_name": "Python 3.10.4 64-bit",
   "language": "python",
   "name": "python3"
  },
  "language_info": {
   "codemirror_mode": {
    "name": "ipython",
    "version": 3
   },
   "file_extension": ".py",
   "mimetype": "text/x-python",
   "name": "python",
   "nbconvert_exporter": "python",
   "pygments_lexer": "ipython3",
   "version": "3.10.4"
  },
  "orig_nbformat": 4,
  "vscode": {
   "interpreter": {
    "hash": "aee8b7b246df8f9039afb4144a1f6fd8d2ca17a180786b69acc140d282b71a49"
   }
  }
 },
 "nbformat": 4,
 "nbformat_minor": 2
}

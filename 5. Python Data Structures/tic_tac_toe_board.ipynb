{
 "cells": [
  {
   "cell_type": "markdown",
   "metadata": {},
   "source": [
    "# Tic-Tac-To (Board Representation)"
   ]
  },
  {
   "cell_type": "code",
   "execution_count": 1,
   "metadata": {},
   "outputs": [
    {
     "name": "stdout",
     "output_type": "stream",
     "text": [
      "  |   |  \n",
      "--+---+--\n",
      "  |   |  \n",
      "--+---+--\n",
      "  |   |  \n",
      "Turn for X - Move on which space?\n"
     ]
    }
   ],
   "source": [
    "game_board = {\"top-left\": \" \", \"top-middle\": \" \", \"top-right\": \" \",\n",
    "              \"middle-left\": \" \", \"middle-middle\": \" \", \"middle-right\": \" \",\n",
    "              \"bottom-left\": \" \", \"bottom-middle\": \" \", \"bottom-right\": \" \"}\n",
    "\n",
    "\n",
    "def print_board(board):\n",
    "    print(board[\"top-left\"], \"|\", board[\"top-middle\"], \"|\", board[\"top-right\"])\n",
    "    print(\"--+---+--\")\n",
    "    print(board[\"middle-left\"], \"|\", board[\"middle-middle\"],\n",
    "          \"|\", board[\"middle-right\"])\n",
    "    print(\"--+---+--\")\n",
    "    print(board[\"bottom-left\"], \"|\", board[\"bottom-middle\"],\n",
    "          \"|\", board[\"bottom-right\"])\n",
    "\n",
    "\n",
    "turn = \"X\"\n",
    "print_board(game_board)\n",
    "for i in range(9):\n",
    "    print(\"Turn for\", turn, \"- Move on which space?\")\n",
    "    move = input(\"top-left, middle-middle, bottom-right, etc...\")\n",
    "    if move == \"exit\": break\n",
    "    game_board[move] = turn\n",
    "    if turn == \"X\":\n",
    "        turn = \"O\"\n",
    "    else:\n",
    "        turn = \"X\"\n",
    "    print_board(game_board)\n"
   ]
  }
 ],
 "metadata": {
  "kernelspec": {
   "display_name": "Python 3.10.4 64-bit",
   "language": "python",
   "name": "python3"
  },
  "language_info": {
   "codemirror_mode": {
    "name": "ipython",
    "version": 3
   },
   "file_extension": ".py",
   "mimetype": "text/x-python",
   "name": "python",
   "nbconvert_exporter": "python",
   "pygments_lexer": "ipython3",
   "version": "3.10.4"
  },
  "orig_nbformat": 4,
  "vscode": {
   "interpreter": {
    "hash": "aee8b7b246df8f9039afb4144a1f6fd8d2ca17a180786b69acc140d282b71a49"
   }
  }
 },
 "nbformat": 4,
 "nbformat_minor": 2
}
